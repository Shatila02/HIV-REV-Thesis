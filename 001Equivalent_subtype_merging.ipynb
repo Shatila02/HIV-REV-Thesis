{
 "cells": [
  {
   "cell_type": "code",
   "execution_count": 1,
   "id": "de485332-8cd1-4629-b052-2b94d7ee8002",
   "metadata": {
    "tags": []
   },
   "outputs": [
    {
     "ename": "FileNotFoundError",
     "evalue": "[Errno 2] No such file or directory: 'G:\\\\\\\\Projects\\\\\\\\sakil\\\\\\\\HIV_vif\\\\\\\\1st\\\\\\\\2009\\\\01A1A6.fasta'",
     "output_type": "error",
     "traceback": [
      "\u001b[1;31m---------------------------------------------------------------------------\u001b[0m",
      "\u001b[1;31mFileNotFoundError\u001b[0m                         Traceback (most recent call last)",
      "Input \u001b[1;32mIn [1]\u001b[0m, in \u001b[0;36m<cell line: 24>\u001b[1;34m()\u001b[0m\n\u001b[0;32m     25\u001b[0m \u001b[38;5;28;01mwith\u001b[39;00m \u001b[38;5;28mopen\u001b[39m(os\u001b[38;5;241m.\u001b[39mpath\u001b[38;5;241m.\u001b[39mjoin(path1,\u001b[38;5;124m'\u001b[39m\u001b[38;5;132;01m%s\u001b[39;00m\u001b[38;5;124m.fasta\u001b[39m\u001b[38;5;124m'\u001b[39m \u001b[38;5;241m%\u001b[39mi),\u001b[38;5;124m'\u001b[39m\u001b[38;5;124mw\u001b[39m\u001b[38;5;124m'\u001b[39m) \u001b[38;5;28;01mas\u001b[39;00m main:\n\u001b[0;32m     26\u001b[0m     \u001b[38;5;28;01mfor\u001b[39;00m j \u001b[38;5;129;01min\u001b[39;00m subdict[i]:\n\u001b[1;32m---> 27\u001b[0m         \u001b[38;5;28;01mwith\u001b[39;00m \u001b[38;5;28;43mopen\u001b[39;49m\u001b[43m(\u001b[49m\u001b[43mos\u001b[49m\u001b[38;5;241;43m.\u001b[39;49m\u001b[43mpath\u001b[49m\u001b[38;5;241;43m.\u001b[39;49m\u001b[43mjoin\u001b[49m\u001b[43m(\u001b[49m\u001b[43mpath2\u001b[49m\u001b[43m,\u001b[49m\u001b[43m \u001b[49m\u001b[38;5;124;43m'\u001b[39;49m\u001b[38;5;132;43;01m%s\u001b[39;49;00m\u001b[38;5;124;43m.fasta\u001b[39;49m\u001b[38;5;124;43m'\u001b[39;49m\u001b[43m \u001b[49m\u001b[38;5;241;43m%\u001b[39;49m\u001b[43mj\u001b[49m\u001b[43m)\u001b[49m\u001b[43m,\u001b[49m\u001b[43m \u001b[49m\u001b[38;5;124;43m'\u001b[39;49m\u001b[38;5;124;43mr\u001b[39;49m\u001b[38;5;124;43m'\u001b[39;49m\u001b[43m)\u001b[49m \u001b[38;5;28;01mas\u001b[39;00m rd:\n\u001b[0;32m     28\u001b[0m             shutil\u001b[38;5;241m.\u001b[39mcopyfileobj(rd,main)\n",
      "\u001b[1;31mFileNotFoundError\u001b[0m: [Errno 2] No such file or directory: 'G:\\\\\\\\Projects\\\\\\\\sakil\\\\\\\\HIV_vif\\\\\\\\1st\\\\\\\\2009\\\\01A1A6.fasta'"
     ]
    }
   ],
   "source": [
    "import os\n",
    "import shutil\n",
    "import pandas as pd\n",
    "sfile = pd.read_excel(\"G:\\\\Projects\\\\shatila\\\\HIV_rev\\\\PRO_REV_2020.xlsx\")\n",
    "path1 = r'G:\\\\Projects\\\\shatila\\\\HIV_rev\\\\2nd\\\\2009' #path of output file\n",
    "path2 = r'G:\\\\Projects\\\\shatila\\\\HIV_rev\\\\1st\\\\2009' #path of input file\n",
    "ky = sfile['actual_subtype'].tolist() #actual_subtype list from excel file\n",
    "vr = sfile['subtype'].tolist() #present or belonging subtype list fromm excel file\n",
    "subdict = {}\n",
    "n = []\n",
    "for key in ky:\n",
    "    subdict[key] = []\n",
    "for i in subdict:\n",
    "    n.append(i)     #list of the subtypes without duplicates\n",
    "\n",
    "#A dictionary of all subtypes belonging to specific actual subtypes\n",
    "for i in n:\n",
    "    for j in range(len(ky)):\n",
    "        if i == ky[j]:\n",
    "            subdict[i].append(vr[j])\n",
    "            \n",
    "\n",
    "#merging all equivalent subtypes\n",
    "for i in n:\n",
    "    with open(os.path.join(path1,'%s.fasta' %i),'w') as main:\n",
    "        for j in subdict[i]:\n",
    "            with open(os.path.join(path2, '%s.fasta' %j), 'r') as rd:\n",
    "                shutil.copyfileobj(rd,main)"
   ]
  },
  {
   "cell_type": "code",
   "execution_count": null,
   "id": "092aa90e-362d-4789-87ac-926103260515",
   "metadata": {},
   "outputs": [],
   "source": []
  }
 ],
 "metadata": {
  "kernelspec": {
   "display_name": "Python 3 (ipykernel)",
   "language": "python",
   "name": "python3"
  },
  "language_info": {
   "codemirror_mode": {
    "name": "ipython",
    "version": 3
   },
   "file_extension": ".py",
   "mimetype": "text/x-python",
   "name": "python",
   "nbconvert_exporter": "python",
   "pygments_lexer": "ipython3",
   "version": "3.8.13"
  }
 },
 "nbformat": 4,
 "nbformat_minor": 5
}
