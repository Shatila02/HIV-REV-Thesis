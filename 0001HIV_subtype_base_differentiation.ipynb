{
 "cells": [
  {
   "cell_type": "code",
   "execution_count": 3,
   "id": "bd6f646e-58a9-47df-b5f9-e91410599e2b",
   "metadata": {},
   "outputs": [],
   "source": [
    "from Bio import SeqIO\n",
    "\n",
    "#read the file and recording in a list\n",
    "record = SeqIO.parse(open(\"G:\\Projects\\HIV_updated\\\\1st_fasta\\\\HIV1_ALL_1997_rev_DNA.fasta\"),\"fasta\")\n",
    "record_list = list(record)\n",
    "\n",
    "#counting_total_sequences\n",
    "l = []\n",
    "for r in record_list:\n",
    "    r = str(r.seq)\n",
    "    l.append(r)\n",
    "#print(l)=all sequences\n",
    "#print(len(l))=total 4539 sequences"
   ]
  },
  {
   "cell_type": "code",
   "execution_count": 4,
   "id": "84462c4b-a266-427e-929e-02b1c85dc7b6",
   "metadata": {},
   "outputs": [],
   "source": [
    "#recording all subtypes (contaims duplicates)\n",
    "id_list = []\n",
    "all_id = []\n",
    "subtype_duplicate = []\n",
    "\n",
    "#list of all id provided with the fasta file\n",
    "for r in record_list:\n",
    "    all_id = r.id\n",
    "    id_list.append(all_id)"
   ]
  },
  {
   "cell_type": "code",
   "execution_count": 5,
   "id": "5364dbb3-44fe-4128-b9b6-0bdfff5bb0fe",
   "metadata": {},
   "outputs": [
    {
     "name": "stdout",
     "output_type": "stream",
     "text": [
      "104\n",
      "21\n"
     ]
    }
   ],
   "source": [
    "#screening out all available subtypes from the id\n",
    "for i in id_list:\n",
    "    length = len(i)\n",
    "    sub = ''\n",
    "    for j in range(length):\n",
    "        if i[j] != '.':\n",
    "            sub += i[j]\n",
    "            continue\n",
    "        else:\n",
    "            break\n",
    "    subtype_duplicate.append(sub)\n",
    "print(len(subtype_duplicate)) # check whether the subtype length is equal to sequences length\n",
    "\n",
    "#screenout total subtypes avoiding duplications\n",
    "total_subtype = []\n",
    "for i in subtype_duplicate:\n",
    "    if i not in total_subtype:\n",
    "        total_subtype.append(i)\n",
    "print(len(total_subtype)) #total 235 subtypes was found"
   ]
  },
  {
   "cell_type": "code",
   "execution_count": 6,
   "id": "bfa92290-7e0a-4a6b-a2e5-707dd83d7c5e",
   "metadata": {},
   "outputs": [
    {
     "data": {
      "text/plain": [
       "'from collections import Counter\\nelec = Counter(subtype_duplicate)\\nfor e, c in elec.items():\\n    print(f\"{e}: {c}\")'"
      ]
     },
     "execution_count": 6,
     "metadata": {},
     "output_type": "execute_result"
    }
   ],
   "source": [
    "\"\"\"from collections import Counter\n",
    "elec = Counter(subtype_duplicate)\n",
    "for e, c in elec.items():\n",
    "    print(f\"{e}: {c}\")\"\"\""
   ]
  },
  {
   "cell_type": "code",
   "execution_count": 7,
   "id": "31a04053-787b-45a5-955f-b8fe0c26dcd5",
   "metadata": {},
   "outputs": [
    {
     "data": {
      "text/plain": [
       "'print(total_subtype)\\nprint(subtype_duplicate)'"
      ]
     },
     "execution_count": 7,
     "metadata": {},
     "output_type": "execute_result"
    }
   ],
   "source": [
    "\"\"\"print(total_subtype)\n",
    "print(subtype_duplicate)\"\"\""
   ]
  },
  {
   "cell_type": "code",
   "execution_count": 8,
   "id": "a236252c-f40c-4f85-acbd-a430347067e3",
   "metadata": {},
   "outputs": [
    {
     "name": "stdout",
     "output_type": "stream",
     "text": [
      "21\n",
      "104\n"
     ]
    }
   ],
   "source": [
    "#create a dictionary which represents similar subtypes location\n",
    "sub_dic = {}\n",
    "for i in total_subtype:\n",
    "    sub_dic[i] = []\n",
    "    lis= []\n",
    "    for j in range(len(l)):\n",
    "        if i == subtype_duplicate[j]:\n",
    "            lis.append(j)\n",
    "    sub_dic[i] = lis\n",
    "print(len(sub_dic)) #checking whether total subtype number is changed or not\n",
    "\n",
    "#testing whether all the positional count of subtypes is equal to total number of sequences provided\n",
    "c = 0\n",
    "for i in sub_dic:\n",
    "    c += len(sub_dic[i])\n",
    "print(c)"
   ]
  },
  {
   "cell_type": "code",
   "execution_count": null,
   "id": "2326b3fa-0c79-420e-89b5-36efdab5346e",
   "metadata": {},
   "outputs": [],
   "source": [
    "#Finally setting a directory in desktop to save the fasta file with different subtype name\n",
    "import os\n",
    "os.chdir(\"G:\\\\Projects\\\\HIV\\\\fasta_file\")           \n",
    "for i in sub_dic:\n",
    "    t = sub_dic[i]\n",
    "    sequences = []\n",
    "    \n",
    "    for j in t:\n",
    "        sequences.append(record_list[j])\n",
    "    with open(\"%s.fasta\" %i, \"w\") as output_handle:\n",
    "        SeqIO.write(sequences, output_handle, \"fasta\")"
   ]
  },
  {
   "cell_type": "code",
   "execution_count": null,
   "id": "bb9e22fd-207d-452e-a6f1-532cc2239104",
   "metadata": {},
   "outputs": [],
   "source": []
  },
  {
   "cell_type": "code",
   "execution_count": 34,
   "id": "c3ef7099-ed37-4e33-ade4-038bcffe59dd",
   "metadata": {},
   "outputs": [
    {
     "name": "stdout",
     "output_type": "stream",
     "text": [
      "4539\n",
      "235\n",
      "235\n",
      "4539\n"
     ]
    }
   ],
   "source": [
    "from Bio import SeqIO\n",
    "\n",
    "#read the file and recording in a list\n",
    "record = SeqIO.parse(open(\"G:\\\\Projects\\\\HIV_updated\\\\1st_fasta\\\\HIV1_FLT_2020_rev_DNA.fasta\"),\"fasta\")\n",
    "record_list = list(record)\n",
    "\n",
    "#counting_total_sequences\n",
    "l = []\n",
    "for r in record_list:\n",
    "    r = str(r.seq)\n",
    "    l.append(r)\n",
    "#print(l)=all sequences\n",
    "#print(len(l))=total 4539 sequences\n",
    "\n",
    "#recording all subtypes (contaims duplicates)\n",
    "id_list = []\n",
    "all_id = []\n",
    "subtype_duplicate = []\n",
    "\n",
    "#list of all id provided with the fasta file\n",
    "for r in record_list:\n",
    "    all_id = r.id\n",
    "    id_list.append(all_id)\n",
    "\n",
    "#screening out all available subtypes from the id\n",
    "for i in id_list:\n",
    "    length = len(i)\n",
    "    sub = ''\n",
    "    for j in range(length):\n",
    "        if i[j] != '.':\n",
    "            sub += i[j]\n",
    "            continue\n",
    "        else:\n",
    "            break\n",
    "    subtype_duplicate.append(sub)\n",
    "print(len(subtype_duplicate)) # check whether the subtype length is equal to sequences length\n",
    "\n",
    "#screenout total subtypes avoiding duplications\n",
    "total_subtype = []\n",
    "for i in subtype_duplicate:\n",
    "    if i not in total_subtype:\n",
    "        total_subtype.append(i)\n",
    "print(len(total_subtype)) #total 235 subtypes was found\n",
    "\n",
    "#create a dictionary which represents similar subtypes location\n",
    "sub_dic = {}\n",
    "for i in total_subtype:\n",
    "    sub_dic[i] = []\n",
    "    lis= []\n",
    "    for j in range(len(l)):\n",
    "        if i == subtype_duplicate[j]:\n",
    "            lis.append(j)\n",
    "    sub_dic[i] = lis\n",
    "print(len(sub_dic)) #checking whether total subtype number is changed or not\n",
    "\n",
    "#testing whether all the positional count of subtypes is equal to total number of sequences provided\n",
    "c = 0\n",
    "for i in sub_dic:\n",
    "    c += len(sub_dic[i])\n",
    "print(c)\n",
    "\n",
    "#Finally setting a directory in desktop to save the fasta file with different subtype name\n",
    "import os\n",
    "os.chdir(\"G:\\\\Projects\\\\HIV_updated\\\\1st_output\\\\2020\")           \n",
    "for i in sub_dic:\n",
    "    t = sub_dic[i]\n",
    "    sequences = []\n",
    "    \n",
    "    for j in t:\n",
    "        sequences.append(record_list[j])\n",
    "    with open(\"%s.fasta\" %i, \"w\") as output_handle:\n",
    "        SeqIO.write(sequences, output_handle, \"fasta\")"
   ]
  },
  {
   "cell_type": "code",
   "execution_count": null,
   "id": "0f525e9e-73f3-44b2-98b3-e56bfba02468",
   "metadata": {},
   "outputs": [],
   "source": []
  }
 ],
 "metadata": {
  "kernelspec": {
   "display_name": "Python 3 (ipykernel)",
   "language": "python",
   "name": "python3"
  },
  "language_info": {
   "codemirror_mode": {
    "name": "ipython",
    "version": 3
   },
   "file_extension": ".py",
   "mimetype": "text/x-python",
   "name": "python",
   "nbconvert_exporter": "python",
   "pygments_lexer": "ipython3",
   "version": "3.8.13"
  }
 },
 "nbformat": 4,
 "nbformat_minor": 5
}
